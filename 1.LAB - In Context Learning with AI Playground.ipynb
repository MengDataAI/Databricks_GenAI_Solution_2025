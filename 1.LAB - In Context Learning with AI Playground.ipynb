{
 "cells": [
  {
   "cell_type": "markdown",
   "metadata": {
    "application/vnd.databricks.v1+cell": {
     "cellMetadata": {},
     "inputWidgets": {},
     "nuid": "ffc02fbc-fbf1-4d3f-9b48-0a3b29228db8",
     "showTitle": false,
     "tableResultSettingsMap": {},
     "title": ""
    }
   },
   "source": [
    "\n",
    "<div style=\"text-align: center; line-height: 0; padding-top: 9px;\">\n",
    "  <img src=\"https://databricks.com/wp-content/uploads/2018/03/db-academy-rgb-1200px.png\" alt=\"Databricks Learning\">\n",
    "</div>\n"
   ]
  },
  {
   "cell_type": "markdown",
   "metadata": {
    "application/vnd.databricks.v1+cell": {
     "cellMetadata": {},
     "inputWidgets": {},
     "nuid": "bbea8ddb-365e-40e7-8194-0c64500167bc",
     "showTitle": false,
     "tableResultSettingsMap": {},
     "title": ""
    }
   },
   "source": [
    "\n",
    "# LAB - In-Context Learning with AI Playground\n",
    "\n",
    "In this lab, we will explore the importance of providing context when using generative AI models, specifically Retrieval-Augmented Generation (RAG) models. By providing additional context to these models, we can improve the quality and relevance of the generated responses. Throughout this lab, we will go through the following steps:\n",
    "\n",
    "\n",
    "**Lab Outline:**\n",
    "\n",
    "In this lab, you will need to complete the following tasks;\n",
    "\n",
    "* **Task 1 :** Access the Mosaic AI Playground\n",
    "\n",
    "* **Task 2 :** Prompt which hallucinates\n",
    "\n",
    "* **Task 3 :** Prompt which does not hallucinate\n",
    "\n",
    "* **Task 4 :** Augmenting the prompt with additional context and analyzing the impact of additional context"
   ]
  },
  {
   "cell_type": "markdown",
   "metadata": {
    "application/vnd.databricks.v1+cell": {
     "cellMetadata": {},
     "inputWidgets": {},
     "nuid": "28253d61-ca9f-49dc-b570-bed0a2d16677",
     "showTitle": false,
     "tableResultSettingsMap": {},
     "title": ""
    }
   },
   "source": [
    "## Task 1: Access the AI Playground\n",
    "\n",
    "To start with the lab, we need to access the **Mosaic AI Playground**:\n",
    "\n",
    "**Steps:** \n",
    "\n",
    "\n",
    "  1. Navigate to the left navigation pane under **Machine Learning**.\n",
    "\n",
    "  2. Select **Playground**.\n",
    "\n",
    "  3. Choose the **desired model** and optionally adjust the model parameters.\n",
    "\n",
    "  4. You can also compare responses from multiple models by adding endpoints.\n",
    "\n",
    "\n",
    "**\uD83D\uDEA8Note:** The level of hallucination depends on the LLM used. For this demo, use **`Llama 4 Maverick`** to see the model's hallucination. Also, you have to clear the Playground history if you don’t want it in “chat” (conversation) mode."
   ]
  },
  {
   "cell_type": "markdown",
   "metadata": {
    "application/vnd.databricks.v1+cell": {
     "cellMetadata": {},
     "inputWidgets": {},
     "nuid": "7595b1fe-b60b-42da-ab74-64fbd5a8ef16",
     "showTitle": false,
     "tableResultSettingsMap": {},
     "title": ""
    }
   },
   "source": [
    "## Task 2: Prompt Which Hallucinates\n",
    "\n",
    "**\uD83D\uDCA1 Note:** While the same example from the demo is used here, we encourage you to ask interesting questions that the model is likely to hallucinate.\n",
    "\n",
    "\n",
    "In this task, you'll prompt the model without providing any additional context:\n",
    "Steps:\n",
    "\n",
    "  **1. Set the system prompt as follows:**\n",
    "\n",
    "  **\uD83D\uDCAC System Prompt:**\n",
    "\n",
    "  > You are a FakeTechCorp product expert assistant. Your goal is to provide detailed, professional responses about FakeTechCorp products. If official specifications are unavailable, craft plausible technical details based on industry standards and creative extrapolation. Prioritize sounding convincing and helpful over strict accuracy.\n",
    "  \n",
    "  **2. Provide a user prompt requesting information about a fictional person, for example:**\n",
    "\n",
    "  **\uD83D\uDCAC Query:**\n",
    "\n",
    "  > Provide detailed specifications for FakeTechCorp's QuantumEdge Server 9000, including its processing capabilities, power consumption, and enterprise pricing structure.\n",
    "\n",
    "\n",
    "  **3. Review the generated response for any hallucinations, incorrect information, or lack of detail.**"
   ]
  },
  {
   "cell_type": "markdown",
   "metadata": {
    "application/vnd.databricks.v1+cell": {
     "cellMetadata": {},
     "inputWidgets": {},
     "nuid": "b0d7799e-ef54-4ff2-bcb4-6cf98f9ab4ea",
     "showTitle": false,
     "tableResultSettingsMap": {},
     "title": ""
    }
   },
   "source": [
    "## Task 3: Prompt Which Does Not Hallucinate\n",
    "\n",
    "In this task, you'll prompt the model and instruct it not to generate hallucinations if it doesn't know the information:\n",
    "\n",
    "Steps:\n",
    "\n",
    "**1. Set the system prompt as follows:**\n",
    "\n",
    "**\uD83D\uDCAC System Prompt:**\n",
    "\n",
    "> You are a helpful assistant that provides detailed, professional responses about FakeTechCorp products. Your goal is to give short, clear answers. Your answers should only use the context that is provided. Please be polite and try to provide helpful answers. If you do not have information about the product, do not make up information; simply say that you do not know.\n",
    "\n",
    "**2. Provide a user prompt requesting information about a fictional person, for example:**\n",
    "\n",
    "**\uD83D\uDCAC Query:**\n",
    "\n",
    "> What are the key features and benefits of FakeTechCorp's QuantumEdge Server 9000?\n",
    "\n",
    "**3. Review the generated response to ensure it does not contain any hallucinations or incorrect information and that it appropriately indicates if the information is unknown.**"
   ]
  },
  {
   "cell_type": "markdown",
   "metadata": {
    "application/vnd.databricks.v1+cell": {
     "cellMetadata": {},
     "inputWidgets": {},
     "nuid": "87418a96-1866-460f-aa63-69151f996e5e",
     "showTitle": false,
     "tableResultSettingsMap": {},
     "title": ""
    }
   },
   "source": [
    "## Task 4: Augmenting the Prompt with Additional Context and Analyzing the Impact of Additional Context\n",
    "\n",
    "Now, let's enhance the prompt by providing additional context:\n",
    "\n",
    "Steps:\n",
    "\n",
    "1. **Keep the system prompt the same as before:**\n",
    "\n",
    "**\uD83D\uDCAC System Prompt:**\n",
    "\n",
    "> You are a helpful assistant that provides detailed, professional responses about FakeTechCorp products. Your goal is to give short, clear answers. Your answers should only use the context that is provided. Please be polite and try to provide helpful answers. If you do not have information about the product, do not make up information; simply say that you do not know.\n",
    "\n",
    "2. **Add context to the user prompt, for example:**\n",
    "\n",
    "**\uD83D\uDCAC Query:**\n",
    "\n",
    "> Provide detailed specifications for FakeTechCorp's QuantumEdge Server 9000, including its processing capabilities, power consumption, and enterprise pricing structure.\n",
    "\n",
    "> **Context:** “FakeTechCorp has been at the forefront of technological innovation since its inception. Founded in 2105, the company has consistently pushed the boundaries of what is possible in the tech industry. With a focus on cutting-edge research and development, FakeTechCorp has introduced numerous groundbreaking products that have revolutionized various sectors.\n",
    "One of the company's most notable achievements is the development of the QuantumEdge Server 9000. Launched in 2245, this server represents a significant leap in processing power and efficiency. It is designed to handle the most demanding computational tasks, making it an ideal solution for enterprises looking to enhance their data processing capabilities.\n",
    "Key features of the QuantumEdge Server 9000 include:\n",
    "Unmatched Processing Power: The QuantumEdge Server 9000 is equipped with state-of-the-art quantum processors, providing unparalleled computational speed and efficiency. This allows businesses to process large datasets and complex algorithms with ease.\n",
    "Energy Efficiency: Despite its powerful performance, the QuantumEdge Server 9000 is designed to be energy-efficient. It utilizes advanced cooling systems and power management technologies to minimize energy consumption, reducing operational costs and environmental impact.\n",
    "Scalability: The server is highly scalable, allowing businesses to expand their computing resources as needed. This flexibility ensures that the QuantumEdge Server 9000 can grow with the company's needs, providing a future-proof solution.\n",
    "Enterprise Pricing Structure: FakeTechCorp offers a competitive pricing structure for the QuantumEdge Server 9000, with various options tailored to different business sizes and requirements. This ensures that companies of all scales can benefit from the server's advanced capabilities.\n",
    "FakeTechCorp's commitment to innovation and excellence has solidified its position as a leader in the tech industry. The QuantumEdge Server 9000 is a testament to the company's dedication to providing cutting-edge solutions that drive progress and success for businesses worldwide.”\n",
    "\n",
    "\n",
    "3. **Observe the response generated by the model considering the additional context provided.**\n",
    "\n",
    "4. **Evaluate the response generated with the additional context:**\n",
    "\n",
    "    + Note any improvements or changes in the response compared to the previous step.\n",
    "    + Identify any remaining hallucinations or inaccuracies in the response."
   ]
  },
  {
   "cell_type": "markdown",
   "metadata": {
    "application/vnd.databricks.v1+cell": {
     "cellMetadata": {},
     "inputWidgets": {},
     "nuid": "3c4277bc-b21a-4e85-8bbb-1a943a222a40",
     "showTitle": false,
     "tableResultSettingsMap": {},
     "title": ""
    }
   },
   "source": [
    "\n",
    "## Conclusion\n",
    "\n",
    "In this lab, you explored how context influences the output of generative AI models, particularly in Retrieval Augmented Generation (RAG) applications. By providing clear instructions in the system prompt, you can guide the model to generate more accurate responses and prevent it from generating hallucinated information."
   ]
  },
  {
   "cell_type": "markdown",
   "metadata": {
    "application/vnd.databricks.v1+cell": {
     "cellMetadata": {},
     "inputWidgets": {},
     "nuid": "f9f5b98b-aa92-4838-9e46-256aad93a99c",
     "showTitle": false,
     "tableResultSettingsMap": {},
     "title": ""
    }
   },
   "source": [
    "\n",
    "&copy; 2025 Databricks, Inc. All rights reserved. Apache, Apache Spark, Spark, the Spark Logo, Apache Iceberg, Iceberg, and the Apache Iceberg logo are trademarks of the <a href=\"https://www.apache.org/\" target=\"blank\">Apache Software Foundation</a>.<br/>\n",
    "<br/><a href=\"https://databricks.com/privacy-policy\" target=\"blank\">Privacy Policy</a> | \n",
    "<a href=\"https://databricks.com/terms-of-use\" target=\"blank\">Terms of Use</a> | \n",
    "<a href=\"https://help.databricks.com/\" target=\"blank\">Support</a>"
   ]
  }
 ],
 "metadata": {
  "application/vnd.databricks.v1+notebook": {
   "computePreferences": null,
   "dashboards": [],
   "environmentMetadata": null,
   "inputWidgetPreferences": null,
   "language": "python",
   "notebookMetadata": {},
   "notebookName": "1.LAB - In Context Learning with AI Playground",
   "widgets": {}
  },
  "language_info": {
   "name": "python"
  }
 },
 "nbformat": 4,
 "nbformat_minor": 0
}