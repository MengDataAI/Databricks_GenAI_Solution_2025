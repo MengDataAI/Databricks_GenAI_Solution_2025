{
 "cells": [
  {
   "cell_type": "markdown",
   "metadata": {
    "application/vnd.databricks.v1+cell": {
     "cellMetadata": {},
     "inputWidgets": {},
     "nuid": "1c33332f-c2e7-439a-ae98-08d52beac25c",
     "showTitle": false,
     "tableResultSettingsMap": {},
     "title": ""
    }
   },
   "source": [
    "\n",
    "<div style=\"text-align: center; line-height: 0; padding-top: 9px;\">\n",
    "  <img src=\"https://databricks.com/wp-content/uploads/2018/03/db-academy-rgb-1200px.png\" alt=\"Databricks Learning\">\n",
    "</div>\n"
   ]
  },
  {
   "cell_type": "markdown",
   "metadata": {
    "application/vnd.databricks.v1+cell": {
     "cellMetadata": {},
     "inputWidgets": {},
     "nuid": "57dceda2-f606-4ea4-8507-da8e66499811",
     "showTitle": false,
     "tableResultSettingsMap": {},
     "title": ""
    }
   },
   "source": [
    "\n",
    "# Lab: Preparing Data for RAG\n",
    "\n",
    "The objective of this lab is to demonstrate the process of ingesting and processing documents for a Retrieval-Augmented Generation (RAG) application. This involves extracting text from PDF documents, computing embeddings using a foundation model, and storing the embeddings in a Delta table.\n",
    "\n",
    "\n",
    "**Lab Outline:**\n",
    "\n",
    "In this lab, you will need to complete the following tasks:\n",
    "\n",
    "* **Task 1 :** Read the PDF files and load them into a DataFrame.\n",
    "\n",
    "* **Task 2 :** Extract the text content from the PDFs and split it into manageable chunks.\n",
    "\n",
    "* **Task 3 :** Compute embeddings for each text chunk using a foundation model endpoint.\n",
    "\n",
    "* **Task 4 :** Create a Delta table to store the computed embeddings.\n",
    "\n",
    "**\uD83D\uDCDD Your task:** Complete the **`<FILL_IN>`** sections in the code blocks and follow the other steps as instructed."
   ]
  },
  {
   "cell_type": "markdown",
   "metadata": {
    "application/vnd.databricks.v1+cell": {
     "cellMetadata": {},
     "inputWidgets": {},
     "nuid": "6e734685-57a3-4e9d-9a59-ebd4471e69e7",
     "showTitle": false,
     "tableResultSettingsMap": {},
     "title": ""
    }
   },
   "source": [
    "## REQUIRED - SELECT CLASSIC COMPUTE\n",
    "Before executing cells in this notebook, please select your classic compute cluster in the lab. Be aware that **Serverless** is enabled by default.\n",
    "\n",
    "Follow these steps to select the classic compute cluster:\n",
    "1. Navigate to the top-right of this notebook and click the drop-down menu to select your cluster. By default, the notebook will use **Serverless**.\n",
    "\n",
    "2. If your cluster is available, select it and continue to the next cell. If the cluster is not shown:\n",
    "\n",
    "   - Click **More** in the drop-down.\n",
    "   \n",
    "   - In the **Attach to an existing compute resource** window, use the first drop-down to select your unique cluster.\n",
    "\n",
    "**NOTE:** If your cluster has terminated, you might need to restart it in order to select it. To do this:\n",
    "\n",
    "1. Right-click on **Compute** in the left navigation pane and select *Open in new tab*.\n",
    "\n",
    "2. Find the triangle icon to the right of your compute cluster name and click it.\n",
    "\n",
    "3. Wait a few minutes for the cluster to start.\n",
    "\n",
    "4. Once the cluster is running, complete the steps above to select your cluster."
   ]
  },
  {
   "cell_type": "markdown",
   "metadata": {
    "application/vnd.databricks.v1+cell": {
     "cellMetadata": {},
     "inputWidgets": {},
     "nuid": "d6fd2d75-a497-49ff-81d0-8a8c8db9a6ff",
     "showTitle": false,
     "tableResultSettingsMap": {},
     "title": ""
    }
   },
   "source": [
    "## Requirements\n",
    "\n",
    "Please review the following requirements before starting the lesson:\n",
    "\n",
    "* To run this notebook, you need to use one of the following Databricks runtime(s): **15.4.x-cpu-ml-scala2.12**"
   ]
  },
  {
   "cell_type": "markdown",
   "metadata": {
    "application/vnd.databricks.v1+cell": {
     "cellMetadata": {},
     "inputWidgets": {},
     "nuid": "db1ab6c5-84a2-4132-873c-5674eb797444",
     "showTitle": false,
     "tableResultSettingsMap": {},
     "title": ""
    }
   },
   "source": [
    "\n",
    "## Classroom Setup\n",
    "\n",
    "Before starting the lab, run the provided classroom setup script. This script will define configuration variables necessary for the demo. Execute the following cell:"
   ]
  },
  {
   "cell_type": "code",
   "execution_count": 0,
   "metadata": {
    "application/vnd.databricks.v1+cell": {
     "cellMetadata": {},
     "inputWidgets": {},
     "nuid": "8213fcfc-19c7-42b7-b2ad-bdc4949b6f73",
     "showTitle": false,
     "tableResultSettingsMap": {},
     "title": ""
    }
   },
   "outputs": [],
   "source": [
    "%pip install -qq -U llama-index pydantic PyPDF2\n",
    "dbutils.library.restartPython()"
   ]
  },
  {
   "cell_type": "code",
   "execution_count": 0,
   "metadata": {
    "application/vnd.databricks.v1+cell": {
     "cellMetadata": {},
     "inputWidgets": {},
     "nuid": "46a80ea8-f0c1-4aeb-a8e4-2067d9aeee8c",
     "showTitle": false,
     "tableResultSettingsMap": {},
     "title": ""
    }
   },
   "outputs": [],
   "source": [
    "%run ../Includes/Classroom-Setup-02"
   ]
  },
  {
   "cell_type": "markdown",
   "metadata": {
    "application/vnd.databricks.v1+cell": {
     "cellMetadata": {},
     "inputWidgets": {},
     "nuid": "c30dd977-7d69-4f7a-9d93-f4b5fe0120f2",
     "showTitle": false,
     "tableResultSettingsMap": {},
     "title": ""
    }
   },
   "source": [
    "**Other Conventions:**\n",
    "\n",
    "Throughout this demo, we'll refer to the object `DA`. This object, provided by Databricks Academy, contains variables such as your username, catalog name, schema name, working directory, and dataset locations. Run the code block below to view these details:"
   ]
  },
  {
   "cell_type": "code",
   "execution_count": 0,
   "metadata": {
    "application/vnd.databricks.v1+cell": {
     "cellMetadata": {},
     "inputWidgets": {},
     "nuid": "95cbe92b-b51c-4892-951e-1bef57f724ea",
     "showTitle": false,
     "tableResultSettingsMap": {},
     "title": ""
    }
   },
   "outputs": [],
   "source": [
    "print(f\"Username:          {DA.username}\")\n",
    "print(f\"Catalog Name:      {DA.catalog_name}\")\n",
    "print(f\"Schema Name:       {DA.schema_name}\")\n",
    "print(f\"Working Directory: {DA.paths.working_dir}\")\n",
    "print(f\"Dataset Location:  {DA.paths.datasets}\")"
   ]
  },
  {
   "cell_type": "markdown",
   "metadata": {
    "application/vnd.databricks.v1+cell": {
     "cellMetadata": {},
     "inputWidgets": {},
     "nuid": "52da04c6-429e-4774-a186-371506abb490",
     "showTitle": false,
     "tableResultSettingsMap": {},
     "title": ""
    }
   },
   "source": [
    "## Task 1: Read the PDF files and load them into a DataFrame.\n",
    "\n",
    "To start, you need to load the PDF files into a DataFrame.\n",
    "\n",
    "**Steps:**\n",
    "\n",
    "1. Use Spark to load the binary PDFs into a DataFrame.\n",
    "\n",
    "2. Ensure that each PDF file is represented as a separate record in the DataFrame."
   ]
  },
  {
   "cell_type": "code",
   "execution_count": 0,
   "metadata": {
    "application/vnd.databricks.v1+cell": {
     "cellMetadata": {},
     "inputWidgets": {},
     "nuid": "bbfb517d-474d-459e-b4e4-a1381b577449",
     "showTitle": false,
     "tableResultSettingsMap": {},
     "title": ""
    }
   },
   "outputs": [],
   "source": [
    "# run this cell to import the required libraries\n",
    "from llama_index.core.node_parser import SentenceSplitter\n",
    "from llama_index.core.schema import Document\n",
    "from llama_index.core.utils import set_global_tokenizer\n",
    "from transformers import AutoTokenizer\n",
    "from typing import Iterator\n",
    "from pyspark.sql.functions import col, udf, length, pandas_udf, explode\n",
    "import os\n",
    "import pandas as pd \n",
    "import io\n",
    "from PyPDF2 import PdfReader"
   ]
  },
  {
   "cell_type": "code",
   "execution_count": 0,
   "metadata": {
    "application/vnd.databricks.v1+cell": {
     "cellMetadata": {},
     "inputWidgets": {},
     "nuid": "e96729a9-4c16-408e-91f7-fd4fef057759",
     "showTitle": false,
     "tableResultSettingsMap": {},
     "title": ""
    }
   },
   "outputs": [],
   "source": [
    "# use Spark to load the PDF files into a DataFrame\n",
    "# reduce the arrow batch size as our PDF can be big in memory\n",
    "spark.conf.set(\"spark.sql.execution.arrow.maxRecordsPerBatch\", 10)\n",
    "articles_path = f\"{DA.paths.datasets.arxiv}/arxiv-articles/\"\n",
    "table_name = f\"{DA.catalog_name}.{DA.schema_name}.lab_pdf_raw_text\"\n",
    "\n",
    "# read pdf files\n",
    "df = <FILL_IN>\n",
    "\n",
    "# save list of the files to table\n",
    "df.write.mode(\"overwrite\").saveAsTable(table_name)\n",
    "\n",
    "display(df)"
   ]
  },
  {
   "cell_type": "markdown",
   "metadata": {
    "application/vnd.databricks.v1+cell": {
     "cellMetadata": {},
     "inputWidgets": {},
     "nuid": "5fb6dfe8-6741-4515-b53f-9645cfcc941a",
     "showTitle": false,
     "tableResultSettingsMap": {},
     "title": ""
    }
   },
   "source": [
    "## Task 2: Extract the text content from the PDFs and split it into manageable chunks\n",
    "\n",
    "Next, extract the text content from the PDFs and split it into manageable chunks.\n",
    "\n",
    "**Steps:**\n",
    "\n",
    "1. Define a function to split the text content into chunks.\n",
    "\n",
    "    * Split the text content into manageable chunks.\n",
    "\n",
    "    * Ensure each chunk contains a reasonable amount of text for processing.\n",
    "\n",
    "2. Apply the function to the DataFrame to create a new DataFrame with the text chunks.\n"
   ]
  },
  {
   "cell_type": "code",
   "execution_count": 0,
   "metadata": {
    "application/vnd.databricks.v1+cell": {
     "cellMetadata": {},
     "inputWidgets": {},
     "nuid": "8fda0217-0b29-40ef-956c-88fc77e0e9d7",
     "showTitle": false,
     "tableResultSettingsMap": {},
     "title": ""
    }
   },
   "outputs": [],
   "source": [
    "# define a function to split the text content into chunks\n",
    "@pandas_udf(\"array<string>\")\n",
    "def read_as_chunk(batch_iter: Iterator[pd.Series]) -> Iterator[pd.Series]:\n",
    "    # set llama2 as tokenizer\n",
    "    <FILL_IN>\n",
    "    # sentence splitter from llama_index to split on sentences\n",
    "    <FILL_IN>\n",
    "      return [n.text for n in nodes]\n",
    "\n",
    "    for x in batch_iter:\n",
    "        <FILL_IN>\n",
    "\n",
    "df_chunks = (df\n",
    "                .withColumn(\"content\", explode(read_as_chunk(\"content\")))\n",
    "                .selectExpr('path as pdf_name', 'content')\n",
    "                )\n",
    "display(df_chunks)"
   ]
  },
  {
   "cell_type": "markdown",
   "metadata": {
    "application/vnd.databricks.v1+cell": {
     "cellMetadata": {},
     "inputWidgets": {},
     "nuid": "45effb31-a757-4cd4-824a-3412040cc511",
     "showTitle": false,
     "tableResultSettingsMap": {},
     "title": ""
    }
   },
   "source": [
    "## Task 3: Compute embeddings for each text chunk using a foundation model endpoint\n",
    "Now, compute embeddings for each text chunk using a foundation model endpoint.\n",
    "\n",
    "**Steps:**\n",
    "\n",
    "1. Define a function to compute embeddings for text chunks.\n",
    "    + Use a foundation model endpoint to compute embeddings for each text chunk.\n",
    "    + Ensure that the embeddings are computed efficiently, considering the limitations of the model.  \n",
    "\n",
    "2. Apply the function to the DataFrame containing the text chunks to compute embeddings for each chunk.\n"
   ]
  },
  {
   "cell_type": "code",
   "execution_count": 0,
   "metadata": {
    "application/vnd.databricks.v1+cell": {
     "cellMetadata": {},
     "inputWidgets": {},
     "nuid": "49bbfc4c-4963-414e-963a-a1be63a073db",
     "showTitle": false,
     "tableResultSettingsMap": {},
     "title": ""
    }
   },
   "outputs": [],
   "source": [
    "# define a function to compute embeddings for text chunks\n",
    "@pandas_udf(\"array<float>\")\n",
    "def get_embedding(contents: pd.Series) -> pd.Series:\n",
    "    # define deployment client\n",
    "    <FILL_IN>\n",
    " \n",
    "    def get_embeddings(batch):\n",
    "        # calculate embeddings using the deployment client's predict function \n",
    "        response = <FILL_IN>\n",
    "        return [e['embedding'] for e in response.data]\n",
    "\n",
    "    # splitting the contents into batches of 150 items each, since the embedding model takes at most 150 inputs per request.\n",
    "    max_batch_size = 150\n",
    "    batches = [contents.iloc[i:i + max_batch_size] for i in range(0, len(contents), max_batch_size)]\n",
    "\n",
    "    # process each batch and collect the results\n",
    "    all_embeddings = []\n",
    "    for batch in batches:\n",
    "        <FILL_IN>\n",
    "\n",
    "    return <FILL_IN>\n",
    "    \n",
    "df_chunk_emd = (df_chunks\n",
    "                .withColumn(\"embedding\", get_embedding(\"content\"))\n",
    "                .selectExpr(\"pdf_name\", \"content\", \"embedding\")\n",
    "               )\n",
    "display(df_chunk_emd)"
   ]
  },
  {
   "cell_type": "markdown",
   "metadata": {
    "application/vnd.databricks.v1+cell": {
     "cellMetadata": {},
     "inputWidgets": {},
     "nuid": "7b945db0-80ed-4b1a-a590-6876931c7058",
     "showTitle": false,
     "tableResultSettingsMap": {},
     "title": ""
    }
   },
   "source": [
    "## Task 4: Create a Delta table to store the computed embeddings\n",
    "\n",
    "Finally, create a Delta table to store the computed embeddings.\n",
    "\n",
    "Steps:\n",
    "\n",
    "  1. Define the schema for the Delta table.\n",
    "\n",
    "  2. Save the DataFrame containing the computed embeddings as a Delta table.\n",
    "\n",
    "\n",
    "**Note:** Ensure that the Delta table is properly structured to facilitate efficient querying and retrieval of the embeddings.\n",
    "\n",
    "**\uD83D\uDCCC Instructions:** \n",
    "\n",
    "- Please execute the following SQL code block to create the Delta table. This table will store the computed embeddings along with other relevant information. \n",
    "\n",
    "**Important:** Storing the computed embeddings in a structured format like a Delta table ensures efficient querying and retrieval of the embeddings when needed for various downstream tasks such as retrieval-augmented generation. Additionally, setting the `delta.enableChangeDataFeed` property to true enables Change Data Feed (CDC), which is required for VectorSearch to efficiently process changes in the Delta table."
   ]
  },
  {
   "cell_type": "code",
   "execution_count": 0,
   "metadata": {
    "application/vnd.databricks.v1+cell": {
     "cellMetadata": {},
     "inputWidgets": {},
     "nuid": "6b81477d-1020-4284-b91e-26e9d2b14852",
     "showTitle": false,
     "tableResultSettingsMap": {},
     "title": ""
    }
   },
   "outputs": [],
   "source": [
    "%sql\n",
    "CREATE TABLE IF NOT EXISTS lab_pdf_text_embeddings (\n",
    "  id BIGINT GENERATED BY DEFAULT AS IDENTITY,\n",
    "  pdf_name STRING,\n",
    "  content STRING,\n",
    "  embedding ARRAY <FLOAT>\n",
    "  -- NOTE: the table has to be CDC because VectorSearch is using DLT that is requiring CDC state\n",
    "  ) TBLPROPERTIES (delta.enableChangeDataFeed = true);"
   ]
  },
  {
   "cell_type": "code",
   "execution_count": 0,
   "metadata": {
    "application/vnd.databricks.v1+cell": {
     "cellMetadata": {},
     "inputWidgets": {},
     "nuid": "7d8fa383-25f5-4950-ae52-4d800379254c",
     "showTitle": false,
     "tableResultSettingsMap": {},
     "title": ""
    }
   },
   "outputs": [],
   "source": [
    "# define the schema for the Delta table\n",
    "embedding_table_name = f\"{DA.catalog_name}.{DA.schema_name}.lab_pdf_text_embeddings\"\n",
    "# save the DataFrame as a Delta table\n",
    "df_chunk_emd.<FILL_IN>"
   ]
  },
  {
   "cell_type": "markdown",
   "metadata": {
    "application/vnd.databricks.v1+cell": {
     "cellMetadata": {},
     "inputWidgets": {},
     "nuid": "2da52e82-a02b-4910-8b71-031b1857fe21",
     "showTitle": false,
     "tableResultSettingsMap": {},
     "title": ""
    }
   },
   "source": [
    "\n",
    "## Clean up Classroom\n",
    "\n",
    "**\uD83D\uDEA8 Warning:** Please refrain from deleting tables created in this lab, as they are required for upcoming labs. To clean up the classroom assets, execute the classroom clean-up script provided in the final lab."
   ]
  },
  {
   "cell_type": "markdown",
   "metadata": {
    "application/vnd.databricks.v1+cell": {
     "cellMetadata": {},
     "inputWidgets": {},
     "nuid": "70b8f5ab-2bd5-4aa5-9528-32d310c8dcd9",
     "showTitle": false,
     "tableResultSettingsMap": {},
     "title": ""
    }
   },
   "source": [
    "\n",
    "## Conclusion\n",
    "\n",
    "In this lab, you learned how to prepare data for Retrieval-Augmented Generation (RAG) applications. By extracting text from PDF documents, computing embeddings, and storing them in a Delta table, you can enhance the capabilities of language models to generate more accurate and relevant responses."
   ]
  },
  {
   "cell_type": "markdown",
   "metadata": {
    "application/vnd.databricks.v1+cell": {
     "cellMetadata": {},
     "inputWidgets": {},
     "nuid": "e0f11456-cee4-4852-8351-36effe1b5e91",
     "showTitle": false,
     "tableResultSettingsMap": {},
     "title": ""
    }
   },
   "source": [
    "\n",
    "&copy; 2025 Databricks, Inc. All rights reserved. Apache, Apache Spark, Spark, the Spark Logo, Apache Iceberg, Iceberg, and the Apache Iceberg logo are trademarks of the <a href=\"https://www.apache.org/\" target=\"blank\">Apache Software Foundation</a>.<br/>\n",
    "<br/><a href=\"https://databricks.com/privacy-policy\" target=\"blank\">Privacy Policy</a> | \n",
    "<a href=\"https://databricks.com/terms-of-use\" target=\"blank\">Terms of Use</a> | \n",
    "<a href=\"https://help.databricks.com/\" target=\"blank\">Support</a>"
   ]
  }
 ],
 "metadata": {
  "application/vnd.databricks.v1+notebook": {
   "computePreferences": null,
   "dashboards": [],
   "environmentMetadata": null,
   "inputWidgetPreferences": null,
   "language": "python",
   "notebookMetadata": {},
   "notebookName": "2.LAB - Preparing Data for RAG",
   "widgets": {}
  },
  "language_info": {
   "name": "python"
  }
 },
 "nbformat": 4,
 "nbformat_minor": 0
}